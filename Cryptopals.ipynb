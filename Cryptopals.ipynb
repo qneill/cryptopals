{
  "nbformat": 4,
  "nbformat_minor": 0,
  "metadata": {
    "colab": {
      "name": "Cryptopals.ipynb",
      "provenance": [],
      "collapsed_sections": [],
      "include_colab_link": true
    },
    "kernelspec": {
      "name": "python3",
      "display_name": "Python 3"
    }
  },
  "cells": [
    {
      "cell_type": "markdown",
      "metadata": {
        "id": "view-in-github",
        "colab_type": "text"
      },
      "source": [
        "<a href=\"https://colab.research.google.com/github/pbmakam/cryptopals/blob/master/Cryptopals.ipynb\" target=\"_parent\"><img src=\"https://colab.research.google.com/assets/colab-badge.svg\" alt=\"Open In Colab\"/></a>"
      ]
    },
    {
      "cell_type": "markdown",
      "metadata": {
        "id": "e_lms_0aE2Hp",
        "colab_type": "text"
      },
      "source": [
        "# [the cryptopals crypto challenges](https://www.cryptopals.com/)\n",
        "\n",
        "\n",
        "*   [Set 1: Basics](#set1)\n",
        "*   Set 2: Block Crypto\n",
        "*   Set 3: Block and Stream Crypto\n",
        "*   Set 4: Stream crypto and randomness\n",
        "*   Set 5: Diffie-Hellman and friends\n",
        "*   Set 6: RSA and DSA\n",
        "*   Set 7: Hashes\n",
        "*   Set 8: Abstract Algebra\n",
        "\n",
        "# Welcome to the challenges\n",
        "\n",
        "We can't introduce these any better than [Maciej Ceglowski](https://blog.pinboard.in/2013/04/the_matasano_crypto_challenges/) did, so read that blog post first.\n",
        "\n",
        "We've built a collection of 48 exercises that demonstrate attacks on real-world crypto.\n",
        "\n",
        "This is a different way to learn about crypto than taking a class or reading a book. We give you problems to solve. They're derived from weaknesses in real-world systems and modern cryptographic constructions. We give you enough info to learn about the underlying crypto concepts yourself. When you're finished, you'll not only have learned a good deal about how cryptosystems are built, but you'll also understand how they're attacked.\n",
        "\n",
        "## What Are The Rules?\n",
        "\n",
        "There aren't any! For several years, we ran these challenges over email, and asked participants not to share their results. *The honor system worked beautifully!* But now we're ready to set aside the ceremony and just publish the challenges for everyone to work on.\n",
        "\n",
        "\n",
        "## How Much Math Do I Need To Know?\n",
        "\n",
        "If you have any trouble with the math in these problems, you should be able to find a local 9th grader to help you out. It turns out that many modern crypto attacks don't involve much hard math.\n",
        "\n",
        "## How Much Crypto Do I Need To Know?\n",
        "\n",
        "None. That's the point.\n",
        "\n",
        "## So What Do I Need To Know?\n",
        "\n",
        "You'll want to be able to code proficiently in any language. We've received submissions in C, C++, Python, Ruby, Perl, Visual Basic, X86 Assembly, Haskell, and Lisp. Surprise us with another language. Our friend Maciej says these challenges are a good way to learn a new language, so maybe now's the time to pick up Clojure or Rust.\n",
        "\n",
        "## What Should I Expect?\n",
        "\n",
        "Right now, we have eight sets. They get progressively harder. Again: these are based off real-world vulnerabilities. None of them are \"puzzles\". They're not designed to trip you up. Some of the attacks are clever, though, and if you're not familiar with crypto cleverness... well, you should like solving puzzles. An appreciation for early-90's MTV hip-hop can't hurt either.\n",
        "\n",
        "## Can You Give Us A Long-Winded Indulgent Description For Why You'Ve Chosen To Do This?\n",
        "\n",
        "*It turns out that we can.*\n",
        "\n",
        "If you're not that familiar with crypto already, or if your familiarity comes mostly from things like Applied Cryptography, this fact may surprise you: most crypto is fatally broken. The systems we're relying on today that aren't known to be fatally broken are in a state of just waiting to be fatally broken. Nobody is sure that TLS 1.2 or SSH 2 or OTR are going to remain safe as designed.\n",
        "\n",
        "The current state of crypto software security is similar to the state of software security in the 1990s. Specifically: until around 1995, it was not common knowledge that software built by humans might have trouble counting. As a result, nobody could size a buffer properly, and humanity incurred billions of dollars in cleanup after a decade and a half of emergency fixes for memory corruption vulnerabilities.\n",
        "\n",
        "Counting is not a hard problem. But cryptography is. There are just a few things you can screw up to get the size of a buffer wrong. There are tens, probably hundreds, of obscure little things you can do to take a cryptosystem that should be secure even against an adversary with more CPU cores than there are atoms in the solar system, and make it solveable with a Perl script and 15 seconds. Don't take our word for it: do the challenges and you'll see.\n",
        "\n",
        "People \"know\" this already, but they don't really know it in their gut, and we think the reason for that is that very few people actually know how to implement the best-known attacks. So, mail us, and we'll give you a tour of them.\n",
        "\n",
        "## How do I start?\n",
        "\n",
        "[Start here!](#basics)\n",
        "\n",
        "\n",
        "## Who did this?\n",
        "\n",
        "*    Thomas Ptacek (@tqbf)\n",
        "*    Sean Devlin (@spdevlin)\n",
        "*    Alex Balducci (@iamalexalright)\n",
        "*    Marcin Wielgoszewski (@marcinw)\n",
        "\n",
        "Cryptopals is maintained and expanded (from Set 8 on) by Sean Devlin, in conjunction with the [Cryptography Services Team](https://www.nccgroup.trust/us/our-services/security-consulting/cryptography-services/) at [NCC Group](https://www.nccgroup.trust/us/).\n",
        "\n",
        "We could not possibly have done this without the help of several other people. Roughly in order of influence:\n",
        "\n",
        "*    [Nate Lawson](http://www.rootlabs.com/) taught us virtually everything we know about cryptography.\n",
        "*    [Trevor Perrin](http://trevp.net/) taught Nate some of that. I can tell you a pretty compelling story about how Trevor is the intellectual origin of every successful attack on TLS over the past 5 years.\n",
        "*    Thai Duong and Juliano Rizzo are the godfathers of practical cryptographic software security. Several things in this challenge didn't make sense to us until after Thai and Juliano exploited them in mainstream software.\n",
        "\n",
        "Legal\n",
        "\n",
        "Individual exercise submissions are owned by their author, and may or may not be distributed under an open source license."
      ]
    },
    {
      "cell_type": "code",
      "metadata": {
        "colab_type": "code",
        "id": "te7NxRmSwLSA",
        "outputId": "d2520d4f-ecca-4494-e43a-d36bda475dc1",
        "cellView": "form",
        "colab": {
          "base_uri": "https://localhost:8080/",
          "height": 421
        }
      },
      "source": [
        "#@title Vanilla Ice { vertical-output: true }\n",
        "#@markdown Setting the tempo with this early-90's MTV hip-hop song\n",
        "from IPython.display import YouTubeVideo\n",
        "YouTubeVideo('rog8ou-ZepE', width=600, height=400)"
      ],
      "execution_count": 544,
      "outputs": [
        {
          "output_type": "execute_result",
          "data": {
            "text/html": [
              "\n",
              "        <iframe\n",
              "            width=\"600\"\n",
              "            height=\"400\"\n",
              "            src=\"https://www.youtube.com/embed/rog8ou-ZepE\"\n",
              "            frameborder=\"0\"\n",
              "            allowfullscreen\n",
              "        ></iframe>\n",
              "        "
            ],
            "text/plain": [
              "<IPython.lib.display.YouTubeVideo at 0x7f2339d78550>"
            ],
            "image/jpeg": "[encoded data removed]"
          },
          "metadata": {
            "tags": []
          },
          "execution_count": 544
        }
      ]
    },
    {
      "cell_type": "markdown",
      "metadata": {
        "id": "T354c3pZOjdK",
        "colab_type": "text"
      },
      "source": [
        "## Crypto Challenge Set 1 <a name=\"set1\"></a>\n",
        "\n",
        "This is the **qualifying set**. We picked the exercises in it to ramp developers up gradually into coding cryptography, but also to verify that we were working with people who were ready to write code.\n",
        "\n",
        "This set is **relatively easy**. With one exception, most of these exercises should take only a couple minutes. But don't beat yourself up if it takes longer than that. It took Alex two weeks to get through the set!\n",
        "\n",
        "If you've written any crypto code in the past, you're going to feel like skipping a lot of this. **Don't skip them**. At least two of them (we won't say which) are important stepping stones to later attacks.\n",
        "\n",
        "*   [Convert hex to base64](#ex1) \n",
        "*   [Fixed XOR](#ex2)\n",
        "*   [Single-byte XOR cipher](#ex3)\n",
        "*   [Detect single-character XOR](#ex4)\n",
        "*   [Implement repeating-key XOR](#ex5)\n",
        "*   [Break repeating-key XOR](#ex6)\n",
        "*   [AES in ECB mode](#ex7)\n",
        "*   [Detect AES in ECB mode](#ex8)"
      ]
    },
    {
      "cell_type": "markdown",
      "metadata": {
        "id": "okUP33PUS18S",
        "colab_type": "text"
      },
      "source": [
        "### Convert hex to base64 <a name=\"ex1\"></a>\n",
        "\n",
        "The string:\n"
      ]
    },
    {
      "cell_type": "code",
      "metadata": {
        "id": "xk4ZgMrCTers",
        "colab_type": "code",
        "colab": {}
      },
      "source": [
        "inp = '49276d206b696c6c696e6720796f757220627261696e206c696b65206120706f69736f6e6f7573206d757368726f6f6d'"
      ],
      "execution_count": 0,
      "outputs": []
    },
    {
      "cell_type": "markdown",
      "metadata": {
        "id": "gML-dNy5TsRJ",
        "colab_type": "text"
      },
      "source": [
        "Should produce:"
      ]
    },
    {
      "cell_type": "code",
      "metadata": {
        "id": "zQR9J--KTvjh",
        "colab_type": "code",
        "colab": {}
      },
      "source": [
        "exp = 'SSdtIGtpbGxpbmcgeW91ciBicmFpbiBsaWtlIGEgcG9pc29ub3VzIG11c2hyb29t'"
      ],
      "execution_count": 0,
      "outputs": []
    },
    {
      "cell_type": "markdown",
      "metadata": {
        "id": "m-egQAjLTzc-",
        "colab_type": "text"
      },
      "source": [
        "So go ahead and make that happen. You'll need to use this code for the rest of the exercises."
      ]
    },
    {
      "cell_type": "markdown",
      "metadata": {
        "id": "zR7nrgwan2Fo",
        "colab_type": "text"
      },
      "source": [
        "code here"
      ]
    },
    {
      "cell_type": "code",
      "metadata": {
        "id": "OjcifOasT4AD",
        "colab_type": "code",
        "colab": {}
      },
      "source": [
        "from base64 import b64encode\n",
        "def hex_to_base64(dat):\n",
        "  raw = bytes.fromhex(dat)\n",
        "  print(raw.decode('utf-8'))\n",
        "  return b64encode(raw).decode('utf-8')"
      ],
      "execution_count": 0,
      "outputs": []
    },
    {
      "cell_type": "markdown",
      "metadata": {
        "id": "f9u5sQ0ZnzFl",
        "colab_type": "text"
      },
      "source": [
        "test here"
      ]
    },
    {
      "cell_type": "code",
      "metadata": {
        "id": "kPcSjdCjnyLC",
        "colab_type": "code",
        "outputId": "3327ca76-b172-4136-9c33-204a5a6c5de7",
        "colab": {
          "base_uri": "https://localhost:8080/",
          "height": 35
        }
      },
      "source": [
        "got = hex_to_base64(inp)\n",
        "assert got == exp, \"got {} != exp {}\".format(got, exp)"
      ],
      "execution_count": 548,
      "outputs": [
        {
          "output_type": "stream",
          "text": [
            "I'm killing your brain like a poisonous mushroom\n"
          ],
          "name": "stdout"
        }
      ]
    },
    {
      "cell_type": "markdown",
      "metadata": {
        "id": "HQygIF9dT5PS",
        "colab_type": "text"
      },
      "source": [
        "```\n",
        "```\n",
        "**Cryptopals Rule**\n",
        "***\n",
        "```\n",
        "Always operate on raw bytes, never on encoded strings. Only use hex and base64 for pretty-printing. \n",
        "```\n",
        "\n",
        "\n",
        "\n"
      ]
    },
    {
      "cell_type": "markdown",
      "metadata": {
        "id": "NY2hm57mU7jE",
        "colab_type": "text"
      },
      "source": [
        "### Fixed XOR<a name=\"ex2\"></a>\n",
        "\n",
        "Write a function that takes two equal-length buffers and produces their XOR combination.\n",
        "\n",
        "If your function works properly, then when you feed it the string: "
      ]
    },
    {
      "cell_type": "code",
      "metadata": {
        "id": "Rhfjcw_Qo3cL",
        "colab_type": "code",
        "colab": {}
      },
      "source": [
        "inp1 = '1c0111001f010100061a024b53535009181c'"
      ],
      "execution_count": 0,
      "outputs": []
    },
    {
      "cell_type": "markdown",
      "metadata": {
        "id": "f8dniehVo9o0",
        "colab_type": "text"
      },
      "source": [
        "... after hex decoding, and when XOR'd against:"
      ]
    },
    {
      "cell_type": "code",
      "metadata": {
        "id": "kXsoaKVbo7kH",
        "colab_type": "code",
        "colab": {}
      },
      "source": [
        "inp2 = '686974207468652062756c6c277320657965'"
      ],
      "execution_count": 0,
      "outputs": []
    },
    {
      "cell_type": "markdown",
      "metadata": {
        "id": "4LolnXuPpFsf",
        "colab_type": "text"
      },
      "source": [
        "... should produce: "
      ]
    },
    {
      "cell_type": "code",
      "metadata": {
        "id": "3ymWYNa6pIYH",
        "colab_type": "code",
        "colab": {}
      },
      "source": [
        "exp = '746865206b696420646f6e277420706c6179'"
      ],
      "execution_count": 0,
      "outputs": []
    },
    {
      "cell_type": "markdown",
      "metadata": {
        "id": "P4ASwMiHpLlL",
        "colab_type": "text"
      },
      "source": [
        "code here"
      ]
    },
    {
      "cell_type": "code",
      "metadata": {
        "id": "qUhKt0rQpNGQ",
        "colab_type": "code",
        "colab": {}
      },
      "source": [
        "def fixed_xor(buf1, buf2):\n",
        "  if len(buf1) > len(buf2):\n",
        "    buf1 = buf1[:len(buf2)]\n",
        "  assert len(buf1) == len(buf2), \"buf1 {} != buf2 {}\"\\\n",
        "    .format(len(buf1), len(buf2))\n",
        "  buf1_decoded = bytes.fromhex(buf1)\n",
        "  buf2_decoded = bytes.fromhex(buf2)\n",
        "  return bytes([a^b for (a, b) in zip(buf1_decoded, buf2_decoded)])"
      ],
      "execution_count": 0,
      "outputs": []
    },
    {
      "cell_type": "markdown",
      "metadata": {
        "id": "rKmyVUHlpPcf",
        "colab_type": "text"
      },
      "source": [
        "test here"
      ]
    },
    {
      "cell_type": "code",
      "metadata": {
        "id": "s6ia-4fXpQlD",
        "colab_type": "code",
        "outputId": "3e21901e-9aa6-4205-ac82-3d9f8926fd80",
        "colab": {
          "base_uri": "https://localhost:8080/",
          "height": 35
        }
      },
      "source": [
        "got = fixed_xor(inp1, inp2)\n",
        "assert got == bytes.fromhex(exp), \"got {} != exp {}\".format(got, exp)\n",
        "print (got.decode('utf-8'))"
      ],
      "execution_count": 553,
      "outputs": [
        {
          "output_type": "stream",
          "text": [
            "the kid don't play\n"
          ],
          "name": "stdout"
        }
      ]
    },
    {
      "cell_type": "markdown",
      "metadata": {
        "id": "Jw0-SAjApZDt",
        "colab_type": "text"
      },
      "source": [
        "### Single-byte XOR cipher <a name=\"ex3\"></a>\n",
        "\n",
        "The hex encoded string:"
      ]
    },
    {
      "cell_type": "code",
      "metadata": {
        "id": "42bG3UV2rQ5E",
        "colab_type": "code",
        "colab": {}
      },
      "source": [
        "inp = '1b37373331363f78151b7f2b783431333d78397828372d363c78373e783a393b3736'"
      ],
      "execution_count": 0,
      "outputs": []
    },
    {
      "cell_type": "markdown",
      "metadata": {
        "id": "ssEDQs2gsAmE",
        "colab_type": "text"
      },
      "source": [
        " ... has been XOR'd against a single character. Find the key, decrypt the message.\n",
        "\n",
        "You can do this by hand. But don't: write code to do it for you.\n",
        "\n",
        "How? Devise some method for \"scoring\" a piece of English plaintext. Character frequency is a good metric. Evaluate each output and choose the one with the best score.\n",
        "```\n",
        "```\n",
        "**Achievement Unlocked**\n",
        "***\n",
        "```\n",
        "You now have our permission to make \"ETAOIN SHRDLU\" jokes on Twitter. \n",
        "```\n",
        "code here:"
      ]
    },
    {
      "cell_type": "code",
      "metadata": {
        "id": "WLcls_eQoWEd",
        "colab_type": "code",
        "colab": {}
      },
      "source": [
        "import operator\n",
        "def single_byte_xor_cipher(data):\n",
        "  raw = bytes.fromhex(data)\n",
        "  character_frequency = 'etaoin shrdlu'\n",
        "  score = {}\n",
        "  for key in range(256):\n",
        "    frequency_histogram = dict(zip(character_frequency, [0 for _ in range(len(character_frequency))]))\n",
        "    for r in raw:\n",
        "      c = chr(r ^ key)\n",
        "      if c in frequency_histogram:\n",
        "        frequency_histogram[c] += 1\n",
        "    score[key] = sum(frequency_histogram.values())\n",
        "  key = max(score.items(), key=operator.itemgetter(1))[0]\n",
        "  return bytes([r ^ key for r in raw]).decode()"
      ],
      "execution_count": 0,
      "outputs": []
    },
    {
      "cell_type": "markdown",
      "metadata": {
        "id": "-EBePpuOoWjn",
        "colab_type": "text"
      },
      "source": [
        "test here:"
      ]
    },
    {
      "cell_type": "code",
      "metadata": {
        "id": "o2_LJ3UQoYFI",
        "colab_type": "code",
        "colab": {
          "base_uri": "https://localhost:8080/",
          "height": 35
        },
        "outputId": "345013b6-7755-43c1-b5db-ce8aefdc13a2"
      },
      "source": [
        "got = single_byte_xor_cipher(inp)\n",
        "exp = \"Cooking MC's like a pound of bacon\"\n",
        "assert got == exp, \"got {} != exp {}\".format(got, exp)\n",
        "print(exp)"
      ],
      "execution_count": 556,
      "outputs": [
        {
          "output_type": "stream",
          "text": [
            "Cooking MC's like a pound of bacon\n"
          ],
          "name": "stdout"
        }
      ]
    },
    {
      "cell_type": "markdown",
      "metadata": {
        "id": "LZNKMi-xp7Sb",
        "colab_type": "text"
      },
      "source": [
        "### Detect single-character XOR <a name=\"ex4\"></a>"
      ]
    },
    {
      "cell_type": "markdown",
      "metadata": {
        "id": "BNoYK_H2qJB9",
        "colab_type": "text"
      },
      "source": [
        "### Implement repeating-key XOR <a name=\"ex5\"></a>"
      ]
    },
    {
      "cell_type": "markdown",
      "metadata": {
        "id": "nQ7MN9R2qoZT",
        "colab_type": "text"
      },
      "source": [
        "### Break repeating-key XOR <a name=\"ex6\"></a>"
      ]
    },
    {
      "cell_type": "markdown",
      "metadata": {
        "id": "V1ZW4acHqyc8",
        "colab_type": "text"
      },
      "source": [
        "### AES in ECB mode <a name=\"ex7\"></a>"
      ]
    },
    {
      "cell_type": "markdown",
      "metadata": {
        "id": "3c8Qp4x-q9z_",
        "colab_type": "text"
      },
      "source": [
        "### Detect AES in ECB mode <a name=\"ex8\"></a>"
      ]
    }
  ]
}