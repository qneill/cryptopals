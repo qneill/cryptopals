{
  "nbformat": 4,
  "nbformat_minor": 0,
  "metadata": {
    "colab": {
      "name": "Main.ipynb",
      "provenance": [],
      "collapsed_sections": [
        "e_lms_0aE2Hp"
      ],
      "include_colab_link": true
    },
    "kernelspec": {
      "name": "python3",
      "display_name": "Python 3"
    }
  },
  "cells": [
    {
      "cell_type": "markdown",
      "metadata": {
        "id": "view-in-github",
        "colab_type": "text"
      },
      "source": [
        "<a href=\"https://colab.research.google.com/github/qneill/cryptopals/blob/master/Main.ipynb\" target=\"_parent\"><img src=\"https://colab.research.google.com/assets/colab-badge.svg\" alt=\"Open In Colab\"/></a>"
      ]
    },
    {
      "cell_type": "markdown",
      "metadata": {
        "id": "e_lms_0aE2Hp",
        "colab_type": "text"
      },
      "source": [
        "# [the cryptopals crypto challenges](https://www.cryptopals.com/)\n",
        "\n",
        "\n",
        "*   [Set 1: Basics](#basics)\n",
        "*   Set 2: Block Crypto\n",
        "*   Set 3: Block and Stream Crypto\n",
        "*   Set 4: Stream crypto and randomness\n",
        "*   Set 5: Diffie-Hellman and friends\n",
        "*   Set 6: RSA and DSA\n",
        "*   Set 7: Hashes\n",
        "*   Set 8: Abstract Algebra\n",
        "\n",
        "# Welcome to the challenges\n",
        "\n",
        "We can't introduce these any better than [Maciej Ceglowski](https://blog.pinboard.in/2013/04/the_matasano_crypto_challenges/) did, so read that blog post first.\n",
        "\n",
        "We've built a collection of 48 exercises that demonstrate attacks on real-world crypto.\n",
        "\n",
        "This is a different way to learn about crypto than taking a class or reading a book. We give you problems to solve. They're derived from weaknesses in real-world systems and modern cryptographic constructions. We give you enough info to learn about the underlying crypto concepts yourself. When you're finished, you'll not only have learned a good deal about how cryptosystems are built, but you'll also understand how they're attacked.\n",
        "\n",
        "## What Are The Rules?\n",
        "\n",
        "There aren't any! For several years, we ran these challenges over email, and asked participants not to share their results. *The honor system worked beautifully!* But now we're ready to set aside the ceremony and just publish the challenges for everyone to work on.\n",
        "\n",
        "\n",
        "## How Much Math Do I Need To Know?\n",
        "\n",
        "If you have any trouble with the math in these problems, you should be able to find a local 9th grader to help you out. It turns out that many modern crypto attacks don't involve much hard math.\n",
        "\n",
        "## How Much Crypto Do I Need To Know?\n",
        "\n",
        "None. That's the point.\n",
        "\n",
        "## So What Do I Need To Know?\n",
        "\n",
        "You'll want to be able to code proficiently in any language. We've received submissions in C, C++, Python, Ruby, Perl, Visual Basic, X86 Assembly, Haskell, and Lisp. Surprise us with another language. Our friend Maciej says these challenges are a good way to learn a new language, so maybe now's the time to pick up Clojure or Rust.\n",
        "\n",
        "## What Should I Expect?\n",
        "\n",
        "Right now, we have eight sets. They get progressively harder. Again: these are based off real-world vulnerabilities. None of them are \"puzzles\". They're not designed to trip you up. Some of the attacks are clever, though, and if you're not familiar with crypto cleverness... well, you should like solving puzzles. An appreciation for early-90's MTV hip-hop can't hurt either.\n",
        "\n",
        "## Can You Give Us A Long-Winded Indulgent Description For Why You've Chosen To Do This?\n",
        "\n",
        "*It turns out that we can.*\n",
        "\n",
        "If you're not that familiar with crypto already, or if your familiarity comes mostly from things like Applied Cryptography, this fact may surprise you: most crypto is fatally broken. The systems we're relying on today that aren't known to be fatally broken are in a state of just waiting to be fatally broken. Nobody is sure that TLS 1.2 or SSH 2 or OTR are going to remain safe as designed.\n",
        "\n",
        "The current state of crypto software security is similar to the state of software security in the 1990s. Specifically: until around 1995, it was not common knowledge that software built by humans might have trouble counting. As a result, nobody could size a buffer properly, and humanity incurred billions of dollars in cleanup after a decade and a half of emergency fixes for memory corruption vulnerabilities.\n",
        "\n",
        "Counting is not a hard problem. But cryptography is. There are just a few things you can screw up to get the size of a buffer wrong. There are tens, probably hundreds, of obscure little things you can do to take a cryptosystem that should be secure even against an adversary with more CPU cores than there are atoms in the solar system, and make it solveable with a Perl script and 15 seconds. Don't take our word for it: do the challenges and you'll see.\n",
        "\n",
        "People \"know\" this already, but they don't really know it in their gut, and we think the reason for that is that very few people actually know how to implement the best-known attacks. So, mail us, and we'll give you a tour of them.\n",
        "\n",
        "## How do I start?\n",
        "\n",
        "[Start here!](#basics)\n",
        "\n",
        "\n",
        "## Who did this?\n",
        "\n",
        "*    Thomas Ptacek (@tqbf)\n",
        "*    Sean Devlin (@spdevlin)\n",
        "*    Alex Balducci (@iamalexalright)\n",
        "*    Marcin Wielgoszewski (@marcinw)\n",
        "\n",
        "Cryptopals is maintained and expanded (from Set 8 on) by Sean Devlin, in conjunction with the [Cryptography Services Team](https://www.nccgroup.trust/us/our-services/security-consulting/cryptography-services/) at [NCC Group](https://www.nccgroup.trust/us/).\n",
        "\n",
        "We could not possibly have done this without the help of several other people. Roughly in order of influence:\n",
        "\n",
        "*    [Nate Lawson](http://www.rootlabs.com/) taught us virtually everything we know about cryptography.\n",
        "*    [Trevor Perrin](http://trevp.net/) taught Nate some of that. I can tell you a pretty compelling story about how Trevor is the intellectual origin of every successful attack on TLS over the past 5 years.\n",
        "*    Thai Duong and Juliano Rizzo are the godfathers of practical cryptographic software security. Several things in this challenge didn't make sense to us until after Thai and Juliano exploited them in mainstream software.\n",
        "\n",
        "Legal\n",
        "\n",
        "Individual exercise submissions are owned by their author, and may or may not be distributed under an open source license. "
      ]
    },
    {
      "cell_type": "markdown",
      "metadata": {
        "id": "T354c3pZOjdK",
        "colab_type": "text"
      },
      "source": [
        "# Crypto Challenge Set 1 <a name=\"basics\"></a>\n",
        "\n",
        "This is the **qualifying set**. We picked the exercises in it to ramp developers up gradually into coding cryptography, but also to verify that we were working with people who were ready to write code.\n",
        "\n",
        "This set is **relatively easy**. With one exception, most of these exercises should take only a couple minutes. But don't beat yourself up if it takes longer than that. It took Alex two weeks to get through the set!\n",
        "\n",
        "If you've written any crypto code in the past, you're going to feel like skipping a lot of this. **Don't skip them**. At least two of them (we won't say which) are important stepping stones to later attacks.\n",
        "\n",
        "*   [Convert hex to base64](#ex1) \n",
        "*   [Fixed XOR](#ex2)\n",
        "*   Single-byte XOR cipher\n",
        "*   Detect single-character XOR\n",
        "*   Implement repeating-key XOR\n",
        "*   Break repeating-key XOR\n",
        "*   AES in ECB mode\n",
        "*   Detect AES in ECB mode"
      ]
    },
    {
      "cell_type": "markdown",
      "metadata": {
        "id": "okUP33PUS18S",
        "colab_type": "text"
      },
      "source": [
        "## Convert hex to base64 <a name=\"ex1\"></a>\n",
        "\n",
        "The string:\n"
      ]
    },
    {
      "cell_type": "code",
      "metadata": {
        "id": "xk4ZgMrCTers",
        "colab_type": "code",
        "colab": {}
      },
      "source": [
        "inp = '49276d206b696c6c696e6720796f757220627261696e206c696b65206120706f69736f6e6f7573206d757368726f6f6d'"
      ],
      "execution_count": 0,
      "outputs": []
    },
    {
      "cell_type": "markdown",
      "metadata": {
        "id": "gML-dNy5TsRJ",
        "colab_type": "text"
      },
      "source": [
        "Should produce:"
      ]
    },
    {
      "cell_type": "code",
      "metadata": {
        "id": "zQR9J--KTvjh",
        "colab_type": "code",
        "colab": {}
      },
      "source": [
        "exp = 'SSdtIGtpbGxpbmcgeW91ciBicmFpbiBsaWtlIGEgcG9pc29ub3VzIG11c2hyb29t'"
      ],
      "execution_count": 0,
      "outputs": []
    },
    {
      "cell_type": "markdown",
      "metadata": {
        "id": "m-egQAjLTzc-",
        "colab_type": "text"
      },
      "source": [
        "So go ahead and make that happen. You'll need to use this code for the rest of the exercises."
      ]
    },
    {
      "cell_type": "markdown",
      "metadata": {
        "id": "HQygIF9dT5PS",
        "colab_type": "text"
      },
      "source": [
        "**Cryptopals Rule**\n",
        "```\n",
        "Always operate on raw bytes, never on encoded strings. Only use hex and base64 for pretty-printing. \n",
        "```\n",
        "\n"
      ]
    },
    {
      "cell_type": "markdown",
      "metadata": {
        "id": "C4GDN1Kc-7_-",
        "colab_type": "text"
      },
      "source": [
        "code here:"
      ]
    },
    {
      "cell_type": "code",
      "metadata": {
        "id": "9Zivivay6I_D",
        "colab_type": "code",
        "colab": {}
      },
      "source": [
        "from binascii import unhexlify, b2a_base64\n",
        "\n",
        "def hex2base64(dat):\n",
        "    # decode hex encoded string after converting to raw bytes\n",
        "    h = unhexlify(bytes(dat, 'utf-8'))\n",
        "    # base64-encode the result\n",
        "    return(b2a_base64(h,newline=False))\n",
        "\n"
      ],
      "execution_count": 0,
      "outputs": []
    },
    {
      "cell_type": "markdown",
      "metadata": {
        "id": "umiCYAw9V8gK",
        "colab_type": "text"
      },
      "source": [
        "test here:"
      ]
    },
    {
      "cell_type": "code",
      "metadata": {
        "id": "trDkYmhDFodX",
        "colab_type": "code",
        "outputId": "10afd875-077c-4500-b537-741eb4c44cd6",
        "colab": {
          "base_uri": "https://localhost:8080/",
          "height": 35
        }
      },
      "source": [
        "got = hex2base64(inp)\n",
        "exp = bytes(exp, 'utf-8')  # expected result as raw data\n",
        "\n",
        "assert got==exp, \"failed: got {} != exp {}\".format(got,exp)\n",
        "print(\"passed hex2base64\")"
      ],
      "execution_count": 73,
      "outputs": [
        {
          "output_type": "stream",
          "text": [
            "passed hex2base64\n"
          ],
          "name": "stdout"
        }
      ]
    },
    {
      "cell_type": "markdown",
      "metadata": {
        "id": "cM4_SNJ_GwZA",
        "colab_type": "text"
      },
      "source": [
        "## Fixed XOR <a name=\"ex2\"></a>\n",
        "\n",
        "Write a function that takes two equal-length buffers and produces their XOR combination.\n",
        "\n",
        "If your function works properly, then when you feed it the string:"
      ]
    },
    {
      "cell_type": "code",
      "metadata": {
        "id": "YvwaiPIYHPoa",
        "colab_type": "code",
        "colab": {}
      },
      "source": [
        "inp1 = '1c0111001f010100061a024b53535009181c'"
      ],
      "execution_count": 0,
      "outputs": []
    },
    {
      "cell_type": "markdown",
      "metadata": {
        "id": "4mWAqIb5HTm3",
        "colab_type": "text"
      },
      "source": [
        "... after hex decoding, and when XOR'd against:\n"
      ]
    },
    {
      "cell_type": "code",
      "metadata": {
        "id": "VGo_fZ-SHWd-",
        "colab_type": "code",
        "colab": {}
      },
      "source": [
        "inp2 = '686974207468652062756c6c277320657965'"
      ],
      "execution_count": 0,
      "outputs": []
    },
    {
      "cell_type": "markdown",
      "metadata": {
        "id": "8iWtBMYmHaM-",
        "colab_type": "text"
      },
      "source": [
        "... should produce:"
      ]
    },
    {
      "cell_type": "code",
      "metadata": {
        "id": "tHfnNd9IHb9W",
        "colab_type": "code",
        "colab": {}
      },
      "source": [
        "exp = '746865206b696420646f6e277420706c6179'"
      ],
      "execution_count": 0,
      "outputs": []
    },
    {
      "cell_type": "markdown",
      "metadata": {
        "id": "BiLhSzb4HN5s",
        "colab_type": "text"
      },
      "source": [
        "code here:"
      ]
    },
    {
      "cell_type": "code",
      "metadata": {
        "id": "iJk-I4mWHqTp",
        "colab_type": "code",
        "colab": {}
      },
      "source": [
        "def fixed_xor(buf1,buf2):\n",
        "    '''XOR the bytes in equal length buffers buf1 and buf2'''\n",
        "    assert (len(buf1) == len(buf2)), \\\n",
        "      \"Unequal lengths buf1 {} != buf2 {}\".format(len(buf1),len(buf2))\n",
        "    dat1 = unhexlify(bytes(buf1, 'utf-8'))\n",
        "    dat2 = unhexlify(bytes(buf2, 'utf-8'))\n",
        "    return bytes([ a^b for (a,b) in zip(dat1,dat2)])\n",
        "    \n"
      ],
      "execution_count": 0,
      "outputs": []
    },
    {
      "cell_type": "markdown",
      "metadata": {
        "id": "7J7NG-dXWrwH",
        "colab_type": "text"
      },
      "source": [
        "test here:"
      ]
    },
    {
      "cell_type": "code",
      "metadata": {
        "id": "IjHKPtmHLjfP",
        "colab_type": "code",
        "outputId": "ca55a7ad-e09b-4194-dbdd-0ad85c452a50",
        "colab": {
          "base_uri": "https://localhost:8080/",
          "height": 35
        }
      },
      "source": [
        "got = fixed_xor(inp1, inp2)\n",
        "exp = unhexlify(bytes(exp, 'utf-8'))  # expected result as raw data\n",
        "\n",
        "assert got==exp, \"failed: got {} != exp {}\".format(got,exp)\n",
        "print(\"passed fixed_xor\")\n"
      ],
      "execution_count": 78,
      "outputs": [
        {
          "output_type": "stream",
          "text": [
            "passed fixed_xor\n"
          ],
          "name": "stdout"
        }
      ]
    },
    {
      "cell_type": "code",
      "metadata": {
        "id": "9Zivivay6I_D",
        "colab_type": "code",
        "colab": {
          "base_uri": "https://localhost:8080/",
          "height": 34
        },
        "outputId": "340ea108-1b52-4bad-b867-572ce4ce126f"
      },
      "source": [
        "from binascii import b2a_base64, unhexlify\n",
        "h = unhexlify(b'49276d206b696c6c696e6720796f757220627261696e206c696b65206120706f69736f6e6f7573206d757368726f6f6d')\n",
        "b = b2a_base64(h)\n",
        "print(b)"
      ],
      "execution_count": 1,
      "outputs": [
        {
          "output_type": "stream",
          "text": [
            "b'SSdtIGtpbGxpbmcgeW91ciBicmFpbiBsaWtlIGEgcG9pc29ub3VzIG11c2hyb29t\\n'\n"
          ],
          "name": "stdout"
        }
      ]
    }
  ]
}